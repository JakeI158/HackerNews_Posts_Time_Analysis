{
 "cells": [
  {
   "cell_type": "markdown",
   "id": "5890320f",
   "metadata": {},
   "source": [
    "# **Exploration of Hacker News Posts**\n",
    "\n",
    "This project was developed as part of the 'Python for Data Science: Intermediate' training from [Dataquest](https://www.dataquest.io/).\n",
    "\n",
    "The goal of this project is to compare two types of posts from the Hacker News [website](https://news.ycombinator.com/), Ask HN and Show HN. We will be exploring and analyzing the data to determine which type of post receives more comments on average, and whether posts created at certain times receive more comments on average.\n",
    "\n",
    "Note: The dates and times in this project are from the US Eastern Time Zone (EST/EDT)."
   ]
  },
  {
   "cell_type": "markdown",
   "id": "831791ea",
   "metadata": {},
   "source": [
    "## Opening the Data Set\n",
    "\n",
    "The data set we will be using for this project contains data for 12 months up to September 26, 2016. The data set can be downloaded [here](https://www.kaggle.com/hacker-news/hacker-news-posts?select=HN_posts_year_to_Sep_26_2016.csv). The data set contains almost 300,000 rows.\n",
    "\n",
    "Below, we will open the data set and take a look at the first 5 rows:"
   ]
  },
  {
   "cell_type": "code",
   "execution_count": 1,
   "id": "9cd6f32a",
   "metadata": {},
   "outputs": [],
   "source": [
    "from csv import reader\n",
    "\n",
    "# Opening the Hacker News data set\n",
    "opened_file = open('hacker_news.csv', encoding = 'utf8')\n",
    "read_file = reader(opened_file)\n",
    "hn = list(read_file)\n",
    "\n",
    "# Separate the column headers from the main data\n",
    "hn_header = hn[0]\n",
    "hn = hn[1:]"
   ]
  },
  {
   "cell_type": "code",
   "execution_count": 2,
   "id": "3f8a3350",
   "metadata": {},
   "outputs": [
    {
     "name": "stdout",
     "output_type": "stream",
     "text": [
      "['id', 'title', 'url', 'num_points', 'num_comments', 'author', 'created_at']\n",
      "\n",
      "\n",
      "['12579008', 'You have two days to comment if you want stem cells to be classified as your own', 'http://www.regulations.gov/document?D=FDA-2015-D-3719-0018', '1', '0', 'altstar', '9/26/2016 3:26']\n",
      "\n",
      "\n",
      "['12579005', 'SQLAR  the SQLite Archiver', 'https://www.sqlite.org/sqlar/doc/trunk/README.md', '1', '0', 'blacksqr', '9/26/2016 3:24']\n",
      "\n",
      "\n",
      "['12578997', 'What if we just printed a flatscreen television on the side of our boxes?', 'https://medium.com/vanmoof/our-secrets-out-f21c1f03fdc8#.ietxmez43', '1', '0', 'pavel_lishin', '9/26/2016 3:19']\n",
      "\n",
      "\n",
      "['12578989', 'algorithmic music', 'http://cacm.acm.org/magazines/2011/7/109891-algorithmic-composition/fulltext', '1', '0', 'poindontcare', '9/26/2016 3:16']\n",
      "\n",
      "\n",
      "['12578979', 'How the Data Vault Enables the Next-Gen Data Warehouse and Data Lake', 'https://www.talend.com/blog/2016/05/12/talend-and-Â\\x93the-data-vaultÂ\\x94', '1', '0', 'markgainor1', '9/26/2016 3:14']\n",
      "\n",
      "\n",
      "Number of rows: 293119\n",
      "Number of columns: 7\n"
     ]
    }
   ],
   "source": [
    "# Displaying the first 5 rows\n",
    "def explore_data(dataset, start, end, rows_and_columns=False):\n",
    "    dataset_slice = dataset[start:end]\n",
    "    for row in dataset_slice:\n",
    "        print(row)\n",
    "        print('\\n') # Adds a new (empty) line after each row for readability\n",
    "        \n",
    "    if rows_and_columns:\n",
    "        print('Number of rows:', len(dataset))\n",
    "        print('Number of columns:', len(dataset[0]))\n",
    "        \n",
    "print(hn_header)\n",
    "print('\\n')\n",
    "explore_data(hn, 0, 5, True)"
   ]
  },
  {
   "cell_type": "markdown",
   "id": "85556c41",
   "metadata": {},
   "source": [
    "Here we can see that the Hacker News data set contains 293,119 rows (or posts/entries) and 7 columns. To clean up this data slightly for better readability, we have removed the column headers from the main data."
   ]
  },
  {
   "cell_type": "markdown",
   "id": "e2481ae5",
   "metadata": {},
   "source": [
    "## Extracting Ask HN and Show HN Posts\n",
    "\n",
    "As we mentioned earlier, we are interested in comparing the Ask HN and Show HN posts, so we will be separating these two types of posts into their own lists below:"
   ]
  },
  {
   "cell_type": "code",
   "execution_count": 3,
   "id": "1774b8eb",
   "metadata": {},
   "outputs": [
    {
     "name": "stdout",
     "output_type": "stream",
     "text": [
      "Ask HN: 9139\n",
      "Show HN: 10158\n",
      "Other: 273822\n",
      "\n",
      "\n",
      "Ask HN:\n",
      "[['12578908', 'Ask HN: What TLD do you use for local development?', '', '4', '7', 'Sevrene', '9/26/2016 2:53'], ['12578522', 'Ask HN: How do you pass on your work when you die?', '', '6', '3', 'PascLeRasc', '9/26/2016 1:17'], ['12577908', 'Ask HN: How a DNS problem can be limited to a geographic region?', '', '1', '0', 'kuon', '9/25/2016 22:57'], ['12577870', 'Ask HN: Why join a fund when you can be an angel?', '', '1', '3', 'anthony_james', '9/25/2016 22:48'], ['12577647', 'Ask HN: Someone uses stock trading as passive income?', '', '5', '2', '00taffe', '9/25/2016 21:50']]\n",
      "\n",
      "\n",
      "Show HN:\n",
      "[['12578335', 'Show HN: Finding puns computationally', 'http://puns.samueltaylor.org/', '2', '0', 'saamm', '9/26/2016 0:36'], ['12578182', 'Show HN: A simple library for complicated animations', 'https://christinecha.github.io/choreographer-js/', '1', '0', 'christinecha', '9/26/2016 0:01'], ['12578098', 'Show HN: WebGL visualization of DNA sequences', 'http://grondilu.github.io/dna.html', '1', '0', 'grondilu', '9/25/2016 23:44'], ['12577991', 'Show HN: Pomodoro-centric, heirarchical project management with ES6 modules', 'https://github.com/jakebian/zeal', '2', '0', 'dbranes', '9/25/2016 23:17'], ['12577142', 'Show HN: Jumble  Essays on the go #PaulInYourPocket', 'https://itunes.apple.com/us/app/jumble-find-startup-essay/id1150939197?ls=1&mt=8', '1', '1', 'ryderj', '9/25/2016 20:06']]\n"
     ]
    }
   ],
   "source": [
    "ask_posts = []\n",
    "show_posts = []\n",
    "other_posts = []\n",
    "\n",
    "for row in hn:\n",
    "    title = row[1]\n",
    "    if title.lower().startswith('ask hn'):\n",
    "        ask_posts.append(row)\n",
    "    elif title.lower().startswith('show hn'):\n",
    "        show_posts.append(row)\n",
    "    else:\n",
    "        other_posts.append(row)\n",
    "    \n",
    "print('Ask HN:', len(ask_posts))\n",
    "print('Show HN:', len(show_posts))\n",
    "print('Other:', len(other_posts))\n",
    "\n",
    "print('\\n')\n",
    "print('Ask HN:')\n",
    "print(ask_posts[:5])\n",
    "\n",
    "print('\\n')\n",
    "print('Show HN:')\n",
    "print(show_posts[:5])"
   ]
  },
  {
   "cell_type": "markdown",
   "id": "d5e08a9d",
   "metadata": {},
   "source": [
    "Here we can see in the data set that there are 9,139 Ask HN posts and 10,158 Show HN posts. We've placed the remaining posts in a list called other_posts. We have also displayed the first 5 posts for the Ask and Show lists."
   ]
  },
  {
   "cell_type": "markdown",
   "id": "9449e333",
   "metadata": {},
   "source": [
    "## Calculating the Average Number of Comments for Ask HN and Show HN Posts\n",
    "\n",
    "Next, we will determine if Ask posts or Show posts receive more comments on average:"
   ]
  },
  {
   "cell_type": "code",
   "execution_count": 4,
   "id": "1dcea4ee",
   "metadata": {},
   "outputs": [
    {
     "name": "stdout",
     "output_type": "stream",
     "text": [
      "Total Ask Comments: 94986\n",
      "Average Ask Comments: 10.393478498741656\n"
     ]
    }
   ],
   "source": [
    "# Finding the total number of comments in Ask posts\n",
    "total_ask_comments = 0\n",
    "\n",
    "for row in ask_posts:\n",
    "    total_ask_comments += int(row[4])\n",
    "\n",
    "# Finding the average number of comments in Ask posts\n",
    "avg_ask_comments = total_ask_comments / len(ask_posts)\n",
    "\n",
    "print('Total Ask Comments:', total_ask_comments)\n",
    "print('Average Ask Comments:', avg_ask_comments)"
   ]
  },
  {
   "cell_type": "code",
   "execution_count": 5,
   "id": "d06b7585",
   "metadata": {},
   "outputs": [
    {
     "name": "stdout",
     "output_type": "stream",
     "text": [
      "Total Show Comments: 49633\n",
      "Average Show Comments: 4.886099625910612\n"
     ]
    }
   ],
   "source": [
    "# Finding the total number of comments in Show posts\n",
    "total_show_comments = 0\n",
    "\n",
    "for row in show_posts:\n",
    "    total_show_comments += int(row[4])\n",
    "    \n",
    "# Finding the average number of comments in Show posts\n",
    "avg_show_comments = total_show_comments / len(show_posts)\n",
    "\n",
    "print('Total Show Comments:', total_show_comments)\n",
    "print('Average Show Comments:', avg_show_comments)"
   ]
  },
  {
   "cell_type": "markdown",
   "id": "09ecaf0c",
   "metadata": {},
   "source": [
    "Based on the findings above, Ask posts receive more comments on average compared to Show posts (about 10 comments per Ask post vs. about 5 comments per Show post).\n",
    "\n",
    "Since the Ask posts are more likely to receive comments, we will focus our remaining analysis just on these posts."
   ]
  },
  {
   "cell_type": "markdown",
   "id": "145dfdce",
   "metadata": {},
   "source": [
    "## Date/Time Analysis of Ask HN Posts and Comments\n",
    "\n",
    "Now, we will determine if Ask posts created at a certain *time* are more likely to attract comments. We'll use the following steps to perform this analysis:\n",
    "1. Calculate the amount of Ask posts created in each hour of the day, along with the number of comments received.\n",
    "2. Calculate the average number of comments Ask posts receive by hour created.\n",
    "\n",
    "### Part One: Finding the Amount of Ask Posts and Comments by Hour Created\n",
    "\n",
    "First up, we will calculate the amount of Ask posts and comments created by hour:"
   ]
  },
  {
   "cell_type": "code",
   "execution_count": 6,
   "id": "c1a0d5e3",
   "metadata": {},
   "outputs": [
    {
     "name": "stdout",
     "output_type": "stream",
     "text": [
      "{'02': 2996, '01': 2089, '22': 3372, '21': 4500, '19': 3954, '17': 5547, '15': 18525, '14': 4972, '13': 7245, '11': 2797, '10': 3013, '09': 1477, '07': 1585, '03': 2154, '23': 2297, '20': 4462, '16': 4466, '08': 2362, '00': 2277, '18': 4877, '12': 4234, '04': 2360, '06': 1587, '05': 1838}\n",
      "\n",
      "\n",
      "{'02': 269, '01': 282, '22': 383, '21': 518, '19': 552, '17': 587, '15': 646, '14': 513, '13': 444, '11': 312, '10': 282, '09': 222, '07': 226, '03': 271, '23': 343, '20': 510, '16': 579, '08': 257, '00': 301, '18': 614, '12': 342, '04': 243, '06': 234, '05': 209}\n"
     ]
    }
   ],
   "source": [
    "import datetime as dt\n",
    "\n",
    "result_list = []\n",
    "\n",
    "for row in ask_posts:\n",
    "    result_list.append([row[6], int(row[4])])\n",
    "\n",
    "counts_by_hour = {}\n",
    "comments_by_hour = {}\n",
    "\n",
    "for row in result_list:\n",
    "    date = row[0]\n",
    "    comment = row[1]\n",
    "    date_str = dt.datetime.strptime(date, '%m/%d/%Y %H:%M')\n",
    "    date_dt = date_str.strftime('%H')\n",
    "    \n",
    "    if date_dt not in counts_by_hour:\n",
    "        counts_by_hour[date_dt] = 1\n",
    "        comments_by_hour[date_dt] = row[1]\n",
    "    elif date_dt in counts_by_hour:\n",
    "        counts_by_hour[date_dt] += 1\n",
    "        comments_by_hour[date_dt] += row[1]\n",
    "        \n",
    "print(comments_by_hour)\n",
    "print('\\n')\n",
    "print(counts_by_hour)"
   ]
  },
  {
   "cell_type": "markdown",
   "id": "cad59ddb",
   "metadata": {},
   "source": [
    "### Part Two: Calculating the Average Number of Comments for Ask HN Posts by Hour\n",
    "\n",
    "Next, we will calculate the average number of comments per post for posts created during each hour of the day:"
   ]
  },
  {
   "cell_type": "code",
   "execution_count": 7,
   "id": "e1eccde7",
   "metadata": {},
   "outputs": [
    {
     "name": "stdout",
     "output_type": "stream",
     "text": [
      "['02', 11.137546468401487]\n",
      "\n",
      "\n",
      "['01', 7.407801418439717]\n",
      "\n",
      "\n",
      "['22', 8.804177545691905]\n",
      "\n",
      "\n",
      "['21', 8.687258687258687]\n",
      "\n",
      "\n",
      "['19', 7.163043478260869]\n",
      "\n",
      "\n",
      "['17', 9.449744463373083]\n",
      "\n",
      "\n",
      "['15', 28.676470588235293]\n",
      "\n",
      "\n",
      "['14', 9.692007797270955]\n",
      "\n",
      "\n",
      "['13', 16.31756756756757]\n",
      "\n",
      "\n",
      "['11', 8.96474358974359]\n",
      "\n",
      "\n",
      "['10', 10.684397163120567]\n",
      "\n",
      "\n",
      "['09', 6.653153153153153]\n",
      "\n",
      "\n",
      "['07', 7.013274336283186]\n",
      "\n",
      "\n",
      "['03', 7.948339483394834]\n",
      "\n",
      "\n",
      "['23', 6.696793002915452]\n",
      "\n",
      "\n",
      "['20', 8.749019607843136]\n",
      "\n",
      "\n",
      "['16', 7.713298791018998]\n",
      "\n",
      "\n",
      "['08', 9.190661478599221]\n",
      "\n",
      "\n",
      "['00', 7.5647840531561465]\n",
      "\n",
      "\n",
      "['18', 7.94299674267101]\n",
      "\n",
      "\n",
      "['12', 12.380116959064328]\n",
      "\n",
      "\n",
      "['04', 9.7119341563786]\n",
      "\n",
      "\n",
      "['06', 6.782051282051282]\n",
      "\n",
      "\n",
      "['05', 8.794258373205741]\n",
      "\n",
      "\n"
     ]
    }
   ],
   "source": [
    "avg_by_hour = []\n",
    "\n",
    "for hour in comments_by_hour:\n",
    "    comments = comments_by_hour[hour]\n",
    "    counts = counts_by_hour[hour]\n",
    "    avg_by_hour.append([hour, (comments/counts)])\n",
    "    \n",
    "for row in avg_by_hour:\n",
    "    print(row)\n",
    "    print('\\n')"
   ]
  },
  {
   "cell_type": "markdown",
   "id": "b4f69d2a",
   "metadata": {},
   "source": [
    "## Sorting the Results\n",
    "\n",
    "Now we can see the average number of comments for each hour a comment was created in. Although we have the results, it is not very easy to identify the hours with the highest values. To resolve this, we'll sort the results and print the 5 highest values in a format that is easier to read:"
   ]
  },
  {
   "cell_type": "code",
   "execution_count": 8,
   "id": "5a5431e0",
   "metadata": {},
   "outputs": [
    {
     "name": "stdout",
     "output_type": "stream",
     "text": [
      "[[11.137546468401487, '02'], [7.407801418439717, '01'], [8.804177545691905, '22'], [8.687258687258687, '21'], [7.163043478260869, '19'], [9.449744463373083, '17'], [28.676470588235293, '15'], [9.692007797270955, '14'], [16.31756756756757, '13'], [8.96474358974359, '11'], [10.684397163120567, '10'], [6.653153153153153, '09'], [7.013274336283186, '07'], [7.948339483394834, '03'], [6.696793002915452, '23'], [8.749019607843136, '20'], [7.713298791018998, '16'], [9.190661478599221, '08'], [7.5647840531561465, '00'], [7.94299674267101, '18'], [12.380116959064328, '12'], [9.7119341563786, '04'], [6.782051282051282, '06'], [8.794258373205741, '05']]\n"
     ]
    }
   ],
   "source": [
    "swap_avg_by_hour = []\n",
    "\n",
    "# Swapping the indexes for average number of comments and associated hour\n",
    "for row in avg_by_hour:\n",
    "    swap_avg_by_hour.append([row[1], row[0]])\n",
    "\n",
    "print(swap_avg_by_hour)"
   ]
  },
  {
   "cell_type": "code",
   "execution_count": 9,
   "id": "d1ec4fcd",
   "metadata": {},
   "outputs": [
    {
     "name": "stdout",
     "output_type": "stream",
     "text": [
      "Top 5 Hours for Ask Posts Comments:\n",
      "15:00: 28.68 average comments per post.\n",
      "13:00: 16.32 average comments per post.\n",
      "12:00: 12.38 average comments per post.\n",
      "02:00: 11.14 average comments per post.\n",
      "10:00: 10.68 average comments per post.\n"
     ]
    }
   ],
   "source": [
    "# Sorting the results in descending order\n",
    "sorted_swap = sorted(swap_avg_by_hour, reverse=True)\n",
    "\n",
    "print('Top 5 Hours for Ask Posts Comments:')\n",
    "\n",
    "for row in sorted_swap[:5]:\n",
    "    hour_str = dt.datetime.strptime(row[1], '%H')\n",
    "    hour_time = hour_str.strftime('%H:%M')\n",
    "    \n",
    "    results_str = '{}: {:.2f} average comments per post.'\n",
    "    print(results_str.format(hour_time, row[0]))"
   ]
  },
  {
   "cell_type": "markdown",
   "id": "f400997d",
   "metadata": {},
   "source": [
    "## Conclusion\n",
    "\n",
    "Now that we have results that are much easier to read, we can see that 15:00 (or 3:00pm) is the hour where a newly created post has the highest chance of receiving comments. 15:00 has an average of almost 29 comments per post, compared to 13:00 (or 1:00pm) in second place with an average of about 16 comments per post.\n",
    "\n",
    "Note: The dates and times in this project are from the US Eastern Time Zone (EST/EDT)."
   ]
  }
 ],
 "metadata": {
  "kernelspec": {
   "display_name": "Python 3",
   "language": "python",
   "name": "python3"
  },
  "language_info": {
   "codemirror_mode": {
    "name": "ipython",
    "version": 3
   },
   "file_extension": ".py",
   "mimetype": "text/x-python",
   "name": "python",
   "nbconvert_exporter": "python",
   "pygments_lexer": "ipython3",
   "version": "3.8.8"
  }
 },
 "nbformat": 4,
 "nbformat_minor": 5
}
